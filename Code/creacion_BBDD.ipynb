{
 "cells": [
  {
   "cell_type": "markdown",
   "metadata": {},
   "source": [
    "### Creación de la Base de Datos (BBDD)\n",
    "\n",
    "#### Autor: Mario de la Parte Izquierdo \n",
    "#### Fecha: 27/05/2019"
   ]
  },
  {
   "cell_type": "code",
   "execution_count": 57,
   "metadata": {},
   "outputs": [],
   "source": [
    "import sqlite3"
   ]
  },
  {
   "cell_type": "code",
   "execution_count": 58,
   "metadata": {},
   "outputs": [],
   "source": [
    "# La creación de la BBDD se debería ejecutar 1 única vez\n",
    "\n",
    "nombreBD = \"BBDD\" # Nombre de nuestra Base de Datos (BBDD)\n",
    "\n",
    "miConexion = sqlite3.connect(nombreBD) # Se crea la conexión y nuestra BBDD.\n",
    "miCursor = miConexion.cursor() # Se crea el cursor o puntero para crear una tabla.\n",
    "\n",
    "# Se crea la tabla \"ASIGNATURAS\"\n",
    "miCursor.execute('''\n",
    "                 CREATE TABLE ASIGNATURAS(\n",
    "                     Id_Asignatura  INTEGER PRIMARY KEY,\n",
    "                     Descripcion VARCHAR(50),\n",
    "                     Curso INTEGER, Plan VARCHAR(50),\n",
    "                     Tipologia VARCHAR(10),\n",
    "                     Activ VARCHAR(10),\n",
    "                     Tp VARCHAR(10),\n",
    "                     Vp INTEGER,\n",
    "                     Turno VARCHAR(10)\n",
    "                 )''') # Ejecutar la consulta en SQL para crear 1 tabla.\n",
    "\n",
    "# Se crea la tabla \"GRUPOS\"\n",
    "miCursor.execute('''\n",
    "                CREATE TABLE GRUPOS(\n",
    "                    Id_Asignatura  INTEGER,\n",
    "                    Id_Grupo INTEGER,\n",
    "                    Temporada VARCHAR(50),\n",
    "                    Total_Alumnos INTEGER,\n",
    "                    PRIMARY KEY(Id_Asignatura, Id_Grupo, Temporada)\n",
    "                )''') \n",
    "\n",
    "# Se crea la tabla \"PROFESORES\"\n",
    "miCursor.execute('''\n",
    "                CREATE TABLE PROFESORES(\n",
    "                    Id_Profesor  INTEGER,\n",
    "                    Id_Asignatura INTEGER,\n",
    "                    Id_Grupo INTEGER,\n",
    "                    Temporada VARCHAR(50),\n",
    "                    Acta VARCHAR(1), \n",
    "                    Nombre_Apellidos VARCHAR(50),\n",
    "                    PRIMARY KEY(Id_Profesor, Id_Asignatura, Id_Grupo, Temporada)\n",
    "                )''') \n",
    "\n",
    "miConexion.commit() # Se guardan los cambios anteriores\n",
    "miConexion.close() # Se cierra la conexión"
   ]
  },
  {
   "cell_type": "markdown",
   "metadata": {},
   "source": [
    "#### Prueba para introducir valores a nuestra BBDD:"
   ]
  },
  {
   "cell_type": "code",
   "execution_count": 59,
   "metadata": {},
   "outputs": [],
   "source": [
    "# Ejemplo para insertar datos a la BBDD\n",
    "miConexion = sqlite3.connect(nombreBD)\n",
    "miCursor = miConexion.cursor()\n",
    "\n",
    "\n",
    "#miCursor.execute(\"INSERT INTO ASIGNATURAS VALUES(811, 'INFORMÁTICA BÁSICA', 1, '264-Ing. Informatica', 'T', 'S','S',1,'T')\")# Se introducen datos a la tabla \n",
    "\n",
    "\n",
    "# Introducir varios registros (líneas) de golpe\n",
    "cadenaExterna = 'FÍSICA' # Asi se introduciría nuestra información de los Excel\n",
    "\n",
    "# Se crea una lista de tuplas:\n",
    "variasLineas = [  \n",
    "    (811, \"INFORMÁTICA BÁSICA\", 1, \"264-Ing. Informatica\", \"T\", \"S\",\"S\",1,\"T\"),\n",
    "    (812, \"INFORMÁTICA BÁSICA\", 1, \"264-Ing. Informatica\", \"T\", \"S\",\"S\",1,\"T\"),\n",
    "    (815, cadenaExterna, 1, \"264-Ing. Informatica\", \"T\", \"S\",\"S\",1,\"T\")    \n",
    "]\n",
    "\n",
    "miCursor.executemany(\"INSERT INTO ASIGNATURAS VALUES (?,?,?,?,?,?,?,?,?)\", variasLineas) # Tantos ? como campos de la tabla y como 2do parámetro se pone el nombre de la lista de tuplas.\n",
    "\n",
    "\n",
    "miConexion.commit() # Se guardan los cambios anteriores\n",
    "miConexion.close() "
   ]
  },
  {
   "cell_type": "markdown",
   "metadata": {},
   "source": [
    "#### Cómo consultar nuestra BBDD y obtener datos"
   ]
  },
  {
   "cell_type": "code",
   "execution_count": 60,
   "metadata": {},
   "outputs": [
    {
     "name": "stdout",
     "output_type": "stream",
     "text": [
      "(811, 'INFORMÁTICA BÁSICA', 1, '264-Ing. Informatica', 'T', 'S', 'S', 1, 'T')\n",
      "(812, 'INFORMÁTICA BÁSICA', 1, '264-Ing. Informatica', 'T', 'S', 'S', 1, 'T')\n"
     ]
    }
   ],
   "source": [
    "miConexion = sqlite3.connect(nombreBD)\n",
    "miCursor = miConexion.cursor()\n",
    "fitroTipoCadena = \"INFORMÁTICA BÁSICA\"\n",
    "miCursor.execute(\"SELECT * FROM ASIGNATURAS WHERE Descripcion = \"+\"'\"+fitroTipoCadena+\"'\")\n",
    "\n",
    "                 \n",
    "totalAsignaturas = miCursor.fetchall() # Se vuelca toda la información de la SELECT en una lista de Tuplas -> [(fila1),(fila2)]\n",
    "#print(totalAsignaturas)\n",
    " \n",
    "for fila in totalAsignaturas:\n",
    "    print(fila) # fila[0] -> para mostrar únicamente los códigos de las asignaturas\n",
    "    \n",
    "miConexion.commit() # Se guardan los cambios anteriores\n",
    "miConexion.close() "
   ]
  },
  {
   "cell_type": "code",
   "execution_count": null,
   "metadata": {},
   "outputs": [],
   "source": []
  },
  {
   "cell_type": "code",
   "execution_count": null,
   "metadata": {},
   "outputs": [],
   "source": []
  }
 ],
 "metadata": {
  "kernelspec": {
   "display_name": "Python 3",
   "language": "python",
   "name": "python3"
  },
  "language_info": {
   "codemirror_mode": {
    "name": "ipython",
    "version": 3
   },
   "file_extension": ".py",
   "mimetype": "text/x-python",
   "name": "python",
   "nbconvert_exporter": "python",
   "pygments_lexer": "ipython3",
   "version": "3.7.1"
  }
 },
 "nbformat": 4,
 "nbformat_minor": 2
}
