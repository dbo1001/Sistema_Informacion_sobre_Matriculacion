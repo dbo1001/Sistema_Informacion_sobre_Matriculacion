{
 "cells": [
  {
   "cell_type": "markdown",
   "metadata": {},
   "source": [
    "### Creación de la Base de Datos (BBDD)\n",
    "\n",
    "#### Autor: Mario de la Parte Izquierdo \n",
    "#### Fecha: 27/05/2019"
   ]
  },
  {
   "cell_type": "code",
   "execution_count": 12,
   "metadata": {},
   "outputs": [],
   "source": [
    "import sqlite3"
   ]
  },
  {
   "cell_type": "code",
   "execution_count": 13,
   "metadata": {},
   "outputs": [],
   "source": [
    "nombreBD = \"BBDD\" # Nombre de nuestra Base de Datos (BBDD)\n",
    "\n",
    "miConexion = sqlite3.connect(nombreBD) # Se crea la conexión y nuestra BBDD.\n",
    "miCursor = miConexion.cursor() # Se crea el cursor o puntero para crear una tabla.\n",
    "\n",
    "# Se crea la tabla \"ASIGNATURAS\"\n",
    "miCursor.execute(\"CREATE TABLE ASIGNATURAS(Id_Asignatura  INTEGER, Descripcion VARCHAR(50), Curso INTEGER, Plan VARCHAR(50), Tipologia VARCHAR(10), Activ VARCHAR(10), Tp VARCHAR(10), Vp INTEGER, Turno VARCHAR(10))\") # Ejecutar la connsulta en SQL para crear 1 tabla.\n",
    "# Se crea la tabla \"GRUPOS\"\n",
    "miCursor.execute(\"CREATE TABLE GRUPOS(Id_Asignatura  INTEGER, Id_Grupo INTEGER, Temporada VARCHAR(50), Total_Alumnos INTEGER)\") \n",
    "# Se crea la tabla \"PROFESORES\"\n",
    "miCursor.execute(\"CREATE TABLE PROFESORES(Id_Profesor  INTEGER, Id_Asignatura INTEGER, Id_Grupo INTEGER, Temporada VARCHAR(50), Acta VARCHAR(1), Nombre_Apellidos VARCHAR(50))\") \n",
    "\n",
    "# Ejemplo para insertar datos a la BBDD\n",
    "#miCursor.execute(\"INSERT INTO ASIGNATURAS VALUES(811, 'INFORMÁTICA BÁSICA', 1, '264-Ing Informatica')\")# Se introducen datos a la tabla \n",
    "\n",
    "miConexion.commit() # Se guardan los cambios anteriores\n",
    "miConexion.close() # Se cierra la conexión"
   ]
  },
  {
   "cell_type": "code",
   "execution_count": null,
   "metadata": {},
   "outputs": [],
   "source": []
  },
  {
   "cell_type": "code",
   "execution_count": null,
   "metadata": {},
   "outputs": [],
   "source": []
  }
 ],
 "metadata": {
  "kernelspec": {
   "display_name": "Python 3",
   "language": "python",
   "name": "python3"
  },
  "language_info": {
   "codemirror_mode": {
    "name": "ipython",
    "version": 3
   },
   "file_extension": ".py",
   "mimetype": "text/x-python",
   "name": "python",
   "nbconvert_exporter": "python",
   "pygments_lexer": "ipython3",
   "version": "3.7.1"
  }
 },
 "nbformat": 4,
 "nbformat_minor": 2
}
