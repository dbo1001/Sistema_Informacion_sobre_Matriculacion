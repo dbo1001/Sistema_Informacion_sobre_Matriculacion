{
 "cells": [
  {
   "cell_type": "markdown",
   "metadata": {},
   "source": [
    "### Algortitmo que realiza las siguientes funciones:\n",
    "    1. Abrir un fichero Excel (.xls) como si fuera un (.txt), para obtener un (.xml).\n",
    "    2. Parsear el contenido del (.xml) y obtener toda la información del Excel(todas las celdas).\n",
    "        2.1. Se obtiene toda la información de cada fila del Excel -> ROW.\n",
    "        2.2. Se obtiene toda la información de cada celda del Excel -> CELL. \n",
    "            2.2.1. Se obtienen los valores MergeDown y MergeAcross de cada celda.\n",
    "        2.3. Se obtiene la información \"visual\"  de cada celda -> DATA.\n",
    "    3. Con toda la información anterior, se crea un fichero (.csv) y se va guardando la información correctamente.\n",
    "    \n",
    "#### Autor: Mario de la Parte Izquierdo \n",
    "#### Fecha: 31/03/2019"
   ]
  },
  {
   "cell_type": "code",
   "execution_count": 20,
   "metadata": {},
   "outputs": [],
   "source": [
    "import re # Regular Expressions"
   ]
  },
  {
   "cell_type": "code",
   "execution_count": 21,
   "metadata": {},
   "outputs": [],
   "source": [
    "f = open(\"datos.xls\",\"r\") # Se abre el fichero original corrupto [r: read(estamos abriendo un archivo para leerlo)].\n",
    "a = f.read() \n",
    "f.close()\n",
    "#print(a) # Visualizar todo lo que tiene el xml."
   ]
  },
  {
   "cell_type": "code",
   "execution_count": 22,
   "metadata": {
    "scrolled": false
   },
   "outputs": [],
   "source": [
    "nombreDelArchivo = \"ficheroBueno.csv\" # Variable global que recoge el nombre del archivo .csv que se va a crear.\n",
    "archivo = open(nombreDelArchivo ,\"w\")  # 1. Se crear el fichero .csv\n",
    "\n",
    "posicion = 0\n",
    "lista_num_ceros_fila_siguiente = []\n",
    "filaMergeDownMayorQueCero = False\n",
    "filaEspecial = False\n",
    "flag = True\n",
    "\n",
    "datos = re.findall(\"<Row>(.+?)</Row>\", a) # Se obtiene toda la información de cada fila del Excel (ROW)\n",
    "\n",
    "for i, fila in enumerate(datos): # Se recorre cada fila\n",
    "    #print(i)\n",
    "    #print(fila)\n",
    "    #print(\"\\n\")\n",
    "    # Conclusión: Hay que tratar 21 filas    \n",
    "    cell = re.findall(\"<Cell(.+?)</Cell>\", fila) # CELL (es una lista de strings)\n",
    "    #print(cell)\n",
    "    \n",
    "    for j, celda in enumerate(cell):\n",
    "        step_0 = celda.split(' ss:MergeDown=\"')  # Se saca MergeDown y  MergeAcross de cada celda\n",
    "        step_1 = step_0[1].split('\" ss:MergeAcross=\"')\n",
    "        step_2 = step_1[1].split('\"')\n",
    "        #print(\"MergeDown:\")\n",
    "        #print(step_1[0])\n",
    "        MergeDown = step_1[0] \n",
    "        #print(\"MergeAcross:\")\n",
    "        #print(step_2[0])\n",
    "        MergeAcross = step_2[0]\n",
    "        \n",
    "        # Se rellena la lista_num_ceros_fila_siguiente \n",
    "        if(int(MergeDown) > 0):\n",
    "            filaMergeDownMayorQueCero = True\n",
    "        if (filaMergeDownMayorQueCero == True):\n",
    "            lista_num_ceros_fila_siguiente.append(int(MergeDown)) # Para añadir MergeDown a la lista sea 1 o 0.\n",
    "            if(int(MergeAcross) > 0):\n",
    "                aux = int(MergeAcross)\n",
    "                while (aux > 0):\n",
    "                    lista_num_ceros_fila_siguiente.append(0) # Para añadir un cero en caso de que haya celdas en blanco\n",
    "                    aux -= 1\n",
    "            \n",
    "        if (filaEspecial == True): # Meter info de lista_num_ceros_fila_siguiente [1, 1, 1, 1, 1, 1, 1, 1, 1, 0, 0, 0, 0, 0, 0, 0, 0, 0, 0, 0, 1, 1, 1, 1, 0, 0, 1, 1, 1, 1, 1, 1, 1]\n",
    "            #print(\"filaEspecial activado\")\n",
    "            \n",
    "            #if (len(lista_num_ceros_fila_siguiente) >= posicion):# Para limpiar la lista en caso de que haya 2 titulaciones en el mismo Excel.\n",
    "                #lista_num_ceros_fila_siguiente = []\n",
    "                #posicion = 0\n",
    "            #print(len(lista_num_ceros_fila_siguiente))\n",
    "            while (posicion < len(lista_num_ceros_fila_siguiente)   and flag == True):\n",
    "                if (lista_num_ceros_fila_siguiente[posicion] == 1): # Hay un 1 en la lisya -> meter ; \n",
    "                    #print(\"mete celda en blanco\")\n",
    "                    archivo.write(\";\")\n",
    "                else:                                           # Hay un 0 en la lisya -> meter datos \n",
    "                    flag = False\n",
    "                    #print(\"mete datos\")\n",
    "                    data = re.findall(\"<Data(.+?)>(.+?)</Data>\", celda) # DATA \n",
    "                    #print(data)\n",
    "                    if(len(data)>0):\n",
    "                        if ( type(data[0][1]) != int ): # Si no es un entero, se entrecomilla\n",
    "                            archivo.write('\"') # Se añaden comillas para que se posteriormente se pueda abrir el .csv sin problemas por lasa tildes\n",
    "                            archivo.write(data[0][1])\n",
    "                            archivo.write('\"') # Se añaden comillas para que se posteriormente se pueda abrir el .csv sin problemas por lasa tildes\n",
    "                            archivo.write(\";\")\n",
    "                        else:  # si es un entero, no se entrecomilla\n",
    "                            print(\"es un entero\") # Aqui no entra nunca \n",
    "                            archivo.write(data[0][1])\n",
    "                            archivo.write(\";\") # Siguiente columna\n",
    "                        num = int(MergeAcross)\n",
    "                        while(num > 0):            \n",
    "                            archivo.write(\";\")\n",
    "                            num -= 1\n",
    "                    else: \n",
    "                        archivo.write(\";\")\n",
    "                posicion += 1  \n",
    "                    \n",
    "        else:   # Caso Normal         \n",
    "            # Sacar contenido de la celda (DATA)\n",
    "            data = re.findall(\"<Data(.+?)>(.+?)</Data>\", celda) # DATA \n",
    "            if(len(data)>0):\n",
    "                #print(data[0][1]) \n",
    "                if ( type(data[0][1]) != int ): # Si no es un entero, se entrecomilla\n",
    "                    archivo.write('\"') # Se añaden comillas para que se posteriormente se pueda abrir el .csv sin problemas por lasa tildes\n",
    "                    archivo.write(data[0][1])\n",
    "                    archivo.write('\"') # Se añaden comillas para que se posteriormente se pueda abrir el .csv sin problemas por lasa tildes\n",
    "                    archivo.write(\";\") # Siguiente columna\n",
    "                else:  # si es un entero, no se entrecomilla\n",
    "                    print(\"es un entero\") # Aqui no entra nunca \n",
    "                    archivo.write(data[0][1])\n",
    "                    archivo.write(\";\") # Siguiente columna\n",
    "                num = int(MergeAcross)\n",
    "                while(num > 0):            \n",
    "                    archivo.write(\";\")\n",
    "                    num -= 1\n",
    "            else: # Es una celda en blanco (en data hay [])\n",
    "                #print(\"EN BLANCO\")\n",
    "                archivo.write(\";\")\n",
    "        flag = True\n",
    "    \n",
    "    #print(lista_num_ceros_fila_siguiente)\n",
    "    # Fin del 2do for que recorre cada fila.\n",
    "    #print(\"\\n\") # Por cada cacho del sublime (21 en total)\n",
    "    \n",
    "    if (filaEspecial == True):\n",
    "        while (posicion < len(lista_num_ceros_fila_siguiente) ):\n",
    "            archivo.write(\";\") \n",
    "            posicion += 1 \n",
    "    archivo.write(\"\\n\") # Siguiente Fila.\n",
    "    \n",
    "    filaEspecial = False\n",
    "    if(filaMergeDownMayorQueCero == True):\n",
    "        filaEspecial = True\n",
    "    filaMergeDownMayorQueCero = False\n",
    "    \n",
    "archivo.close()\n",
    "#print(lista_num_ceros_fila_siguiente) # Son 33 columnas"
   ]
  },
  {
   "cell_type": "code",
   "execution_count": 15,
   "metadata": {},
   "outputs": [],
   "source": [
    "dato = 2"
   ]
  },
  {
   "cell_type": "code",
   "execution_count": 16,
   "metadata": {},
   "outputs": [
    {
     "name": "stdout",
     "output_type": "stream",
     "text": [
      "<class 'int'>\n",
      "Es un entero\n",
      "2\n"
     ]
    }
   ],
   "source": [
    "print(type(dato)) #Ver de que tipo de dato es la variable\n",
    "if ( type(dato) == int ):\n",
    "    print(\"Es un entero\")\n",
    "    \n",
    "print(dato)"
   ]
  },
  {
   "cell_type": "code",
   "execution_count": null,
   "metadata": {},
   "outputs": [],
   "source": []
  }
 ],
 "metadata": {
  "kernelspec": {
   "display_name": "Python 3",
   "language": "python",
   "name": "python3"
  },
  "language_info": {
   "codemirror_mode": {
    "name": "ipython",
    "version": 3
   },
   "file_extension": ".py",
   "mimetype": "text/x-python",
   "name": "python",
   "nbconvert_exporter": "python",
   "pygments_lexer": "ipython3",
   "version": "3.7.1"
  }
 },
 "nbformat": 4,
 "nbformat_minor": 2
}
