{
 "cells": [
  {
   "cell_type": "code",
   "execution_count": 6,
   "metadata": {},
   "outputs": [],
   "source": [
    "from tkinter import *\n",
    "import os, sys, subprocess\n",
    "from tkinter import filedialog"
   ]
  },
  {
   "cell_type": "code",
   "execution_count": 7,
   "metadata": {},
   "outputs": [
    {
     "name": "stdout",
     "output_type": "stream",
     "text": [
      "\n"
     ]
    }
   ],
   "source": [
    "raiz = Tk() #Se crea el Framework o raiz principal\n",
    "raiz.title(\"Data WareHouse\") #Título de la barra superior de la ventana \n",
    "raiz.resizable(0,0) # (width,height) Para que no se pueda redimensionar la pantalla ni horizontal ni verticalmente\n",
    "raiz.iconbitmap(\"logo.ico\") # Para introducir el icono de barra superior izquierdo\n",
    "#raiz.geometry(\"850x550\") # Para fijar un tamaño de ventana(raiz). La raiz siempre se va a adaptar al tamaño de los contenedores que contenga, por eso lo dejamos comentado.\n",
    "raiz.config(bg = \"red\") # Fijar color de fondo\n",
    "\n",
    "miFrame = Frame() # Se crea el Frame\n",
    "miFrame.pack() # Se asigna el Frame al Framework \n",
    "#miFrame.pack(fill=\"both\", expand = \"True\")\n",
    "miFrame.config(bg = \"powder blue\") # Asignarle color de fondo\n",
    "miFrame.config(width =\"850\", height = \"550\")\n",
    "\n",
    "miFrame.config(bd=15) # Para indicar que queremos el borde más grueso\n",
    "miFrame.config(relief=\"ridge\") #Para cambiar el tipo borde\n",
    "\n",
    "miFrame.config(cursor = \"arrow\") # Para cambiar el cursor  (cursor = \"target\") (cursor = \"circle\")\n",
    "\n",
    "miLabel = Label(miFrame, text=\"Bienvenidos a Data WareHouse\", fg=\"black\", font=(\"Comic Sans MS\", 18))\n",
    "miLabel.place(x=10, y=20) \n",
    "\n",
    "\n",
    "miLabelCargar = Label(miFrame, text=\"\", fg=\"black\", font=(\"Comic Sans MS\", 18))\n",
    "miLabelCargar.place(x=350, y=120)\n",
    "#miImagen = PhotoImage(file = \"panda.jpg\")\n",
    "#miLabel2 = Label(miFrame, image=miImagen) \n",
    "#miLabel2.place(x=100, y=200)\n",
    "\n",
    "\n",
    "def BotonCargar():\n",
    "    raiz.fileName = filedialog.askopenfilename( filetypes=((\".xls (No parseados)\", \"*.xls\"),(\".csv (Ya parseados)\", \"*.csv\"),(\"Todos los ficheros\",\"*.*\")))\n",
    "    print(raiz.fileName) # En \"raiz.fileName\" se almacena la ruta del archivo seleccionado.\n",
    "    #print(raiz.fileName[-3])\n",
    "\n",
    "def open_file(filename):   # Answer of stackoverflow\n",
    "    if sys.platform == \"win32\":\n",
    "        os.startfile(filename)\n",
    "    else:\n",
    "        opener = \"open\" if sys.platform == \"darwin\" else \"xdg-open\"\n",
    "        subprocess.call([opener, filename])\n",
    "\n",
    "        \n",
    "\"\"\" Classs to create the main menu for set app parameters and show the help file\"\"\"\n",
    "class GuiMenu:\n",
    "    def __init__(self, master):\n",
    "        self.master = master\n",
    "        self.menu = Menu(master)\n",
    "        master.config(menu=self.menu)\n",
    "\n",
    "        self.submenu = Menu(self.menu)\n",
    "\n",
    "        # ------------------ Sub Menu Máx Gráficos ------------------ #\n",
    "        self.submenu_config = Menu(self.submenu)\n",
    "        # Options of submenu\n",
    "        self.submenu_config.add_command(label=\"1\", command=self.set1)\n",
    "        self.submenu_config.add_command(label=\"2\", command=self.set2)\n",
    "        self.submenu_config.add_command(label=\"3\", command=self.set3)\n",
    "        self.submenu_config.add_command(label=\"4\", command=self.set4)\n",
    "        self.submenu.add_cascade(label=\"Máx Gráficos\", menu=self.submenu_config)\n",
    "\n",
    "\n",
    "         # ------------------ Main Options of the Menu ------------------ #\n",
    "        self.menu.add_command(label = \"Ayuda\", command = self.open)\n",
    "\n",
    "    def open(self):\n",
    "        open_file('ayuda.pdf') # Se abre el pdf de ayuda\n",
    "\n",
    "    def set1(self):\n",
    "        global max_p\n",
    "        max_p = 1\n",
    "\n",
    "    def set2(self):\n",
    "        global max_p\n",
    "        max_p = 2\n",
    "\n",
    "    def set3(self):\n",
    "        global max_p\n",
    "        max_p = 3\n",
    "\n",
    "    def set4(self):\n",
    "        global max_p\n",
    "        max_p = 4\n",
    "\n",
    "        \n",
    "botonCargar = Button(miLabelCargar, text=\"Cargar Archivos\", command = BotonCargar)\n",
    "botonCargar.pack()\n",
    "\n",
    "menu = GuiMenu(raiz) # Se llama a la clase anterior y se crea el menu.\n",
    "\n",
    "\n",
    "\n",
    "raiz.mainloop() # Para que se ejecute continuamente "
   ]
  },
  {
   "cell_type": "code",
   "execution_count": null,
   "metadata": {},
   "outputs": [],
   "source": []
  },
  {
   "cell_type": "code",
   "execution_count": 12,
   "metadata": {},
   "outputs": [],
   "source": []
  },
  {
   "cell_type": "code",
   "execution_count": null,
   "metadata": {},
   "outputs": [],
   "source": []
  }
 ],
 "metadata": {
  "kernelspec": {
   "display_name": "Python 3",
   "language": "python",
   "name": "python3"
  },
  "language_info": {
   "codemirror_mode": {
    "name": "ipython",
    "version": 3
   },
   "file_extension": ".py",
   "mimetype": "text/x-python",
   "name": "python",
   "nbconvert_exporter": "python",
   "pygments_lexer": "ipython3",
   "version": "3.7.1"
  }
 },
 "nbformat": 4,
 "nbformat_minor": 2
}
