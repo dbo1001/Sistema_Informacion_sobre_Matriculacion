{
 "cells": [
  {
   "cell_type": "code",
   "execution_count": 9,
   "metadata": {},
   "outputs": [],
   "source": [
    "from tkinter import * # Carga módulo tk (widgets estándar)\n",
    "import os, sys, subprocess\n",
    "from tkinter import filedialog\n",
    "from PyQt5.QtWidgets import QFileDialog\n",
    "import pandas as pd\n",
    "import matplotlib.pyplot as plt"
   ]
  },
  {
   "cell_type": "code",
   "execution_count": 11,
   "metadata": {},
   "outputs": [
    {
     "name": "stderr",
     "output_type": "stream",
     "text": [
      "Exception in Tkinter callback\n",
      "Traceback (most recent call last):\n",
      "  File \"C:\\Users\\mdmar\\Anaconda3\\lib\\tkinter\\__init__.py\", line 1705, in __call__\n",
      "    return self.func(*args)\n",
      "  File \"<ipython-input-11-dd9903d83749>\", line 86, in BotonCargar\n",
      "    df = CargarDatos(nombreArchivo)\n",
      "  File \"<ipython-input-11-dd9903d83749>\", line 74, in CargarDatos\n",
      "    df = pd.read_csv(ruta, sep=';',error_bad_lines=False, encoding='latin-1', header = 4)\n",
      "  File \"C:\\Users\\mdmar\\Anaconda3\\lib\\site-packages\\pandas\\io\\parsers.py\", line 678, in parser_f\n",
      "    return _read(filepath_or_buffer, kwds)\n",
      "  File \"C:\\Users\\mdmar\\Anaconda3\\lib\\site-packages\\pandas\\io\\parsers.py\", line 440, in _read\n",
      "    parser = TextFileReader(filepath_or_buffer, **kwds)\n",
      "  File \"C:\\Users\\mdmar\\Anaconda3\\lib\\site-packages\\pandas\\io\\parsers.py\", line 787, in __init__\n",
      "    self._make_engine(self.engine)\n",
      "  File \"C:\\Users\\mdmar\\Anaconda3\\lib\\site-packages\\pandas\\io\\parsers.py\", line 1014, in _make_engine\n",
      "    self._engine = CParserWrapper(self.f, **self.options)\n",
      "  File \"C:\\Users\\mdmar\\Anaconda3\\lib\\site-packages\\pandas\\io\\parsers.py\", line 1708, in __init__\n",
      "    self._reader = parsers.TextReader(src, **kwds)\n",
      "  File \"pandas\\_libs\\parsers.pyx\", line 384, in pandas._libs.parsers.TextReader.__cinit__\n",
      "  File \"pandas\\_libs\\parsers.pyx\", line 695, in pandas._libs.parsers.TextReader._setup_parser_source\n",
      "FileNotFoundError: File b'' does not exist\n"
     ]
    }
   ],
   "source": [
    "raiz = Tk() #Se crea el Framework o raiz principal\n",
    "raiz.title(\"Data WareHouse\") #Título de la barra superior de la ventana \n",
    "raiz.resizable(0,0) # (width,height) Para que no se pueda redimensionar la pantalla ni horizontal ni verticalmente\n",
    "raiz.iconbitmap(\"logo.ico\") # Para introducir el icono de barra superior izquierdo\n",
    "#raiz.geometry(\"850x550\") # Para fijar un tamaño de ventana(raiz). La raiz siempre se va a adaptar al tamaño de los contenedores que contenga, por eso lo dejamos comentado.\n",
    "raiz.config(bg = \"beige\") # Fijar color de fondo\n",
    "\n",
    "miFrame = Frame() # Se crea el Frame\n",
    "miFrame.pack() # Se asigna el Frame al Framework \n",
    "#miFrame.pack(fill=\"both\", expand = \"True\")\n",
    "miFrame.config(bg = \"powder blue\") # Asignarle color de fondo\n",
    "miFrame.config(width =\"850\", height = \"550\")\n",
    "\n",
    "miFrame.config(bd=15) # Para indicar que queremos el borde más grueso\n",
    "miFrame.config(relief=\"ridge\") #Para cambiar el tipo borde\n",
    "\n",
    "miFrame.config(cursor = \"arrow\") # Para cambiar el cursor  (cursor = \"target\") (cursor = \"circle\")\n",
    "\n",
    "miLabel = Label(miFrame, text=\"Bienvenidos a Data WareHouse\", fg=\"black\", font=(\"Comic Sans MS\", 18))\n",
    "miLabel.place(x=10, y=20) \n",
    "\n",
    "\n",
    "miLabelCargar = Label(miFrame, text=\"\", fg=\"black\", font=(\"Comic Sans MS\", 18))\n",
    "miLabelCargar.place(x=350, y=120)\n",
    "#miImagen = PhotoImage(file = \"panda.jpg\")\n",
    "#miLabel2 = Label(miFrame, image=miImagen) \n",
    "#miLabel2.place(x=100, y=200)\n",
    "\n",
    "miLabelGrafica1 = Label(miFrame, text=\"\", fg=\"black\", font=(\"Comic Sans MS\", 18))\n",
    "miLabelGrafica1.place(x=390, y=180)\n",
    "        \n",
    "# --------------------------------------------- Pantalla para Confirmar la Salida -------------------------------- #\n",
    "\"\"\"class MyDialog:\n",
    "    def __init__(self, parent):\n",
    "        self.top = Toplevel(parent)\n",
    "        self.parent = parent\n",
    "        self.top.title(\"Salir\")\n",
    "\n",
    "        Label(self.top, text=\"¿Está seguro?\").grid(row=0, column=0, columnspan=2)\n",
    "\n",
    "        self.button1 = Button(self.top, text=\"Si, salir de la app.\", command=self.salir)\n",
    "        self.button2 = Button(self.top, text=\"No, solo minimizar.\", command=self.minimizar)\n",
    "        self.button1.grid(row=1, column=0, padx=5, pady=5)\n",
    "        self.button2.grid(row=1, column=1, padx=5, pady=5)\n",
    "\n",
    "    def salir(self):\n",
    "        self.top.destroy()\n",
    "        self.parent.destroy()\n",
    "\n",
    "    def minimizar(self):\n",
    "        self.top.destroy()\n",
    "        self.parent.iconify()\n",
    "\n",
    "\n",
    "class MyApp:\n",
    "    def __init__(self, parent):\n",
    "        self.parent = parent\n",
    "        self.parent.protocol(\"WM_DELETE_WINDOW\", self.on_closing)\n",
    "\n",
    "    def on_closing(self):\n",
    "        d = MyDialog(raiz)\n",
    "        self.parent.wait_window(d.top)\n",
    "\n",
    "app = MyApp(raiz)\"\"\"\n",
    "\n",
    "# --------------------------------------------- Fin de Pantalla para Confirmar Salida -------------------------------- #\n",
    "\n",
    "def CargarDatos(ruta):\n",
    "    #print(\"Se van a cargar los datos:\")\n",
    "    # Esto funciona y abre el csv:\n",
    "    #df = pd.read_csv('C:\\\\Users\\\\mdmar\\\\Desktop\\\\ficheroBueno.csv', sep=';',error_bad_lines=False, encoding='latin-1', header = 4)\n",
    "    # Esto también funciona\n",
    "    #df = pd.read_csv('ficheroBueno.csv', sep=';',error_bad_lines=False, encoding='latin-1', header = 4)\n",
    "    df = pd.read_csv(ruta, sep=';',error_bad_lines=False, encoding='latin-1', header = 4)\n",
    "    return df\n",
    "\n",
    "def BotonCargar():\n",
    "    raiz.fileName = filedialog.askopenfilename( filetypes=((\".xls (No parseados)\", \"*.xls\"),(\".csv (Ya parseados)\", \"*.csv\"),(\"Todos los ficheros\",\"*.*\")), title = \"Seleccione un archivo\")\n",
    "    \n",
    "    #print(raiz.fileName) # En \"raiz.fileName\" se almacena la ruta del archivo seleccionado (sin comillas). Por ej: C:/Users/mdmar/Desktop/ficheroBueno.csv\n",
    "    nombreArchivo = raiz.fileName.split('/')[-1] # Se divide por \"/\" el string de la ruta y se obtiene la última posición con [-1]\n",
    "    #aux = '\"'+ nombreArchivo +'\"' # Se entrecomilla el nombre del archivo\n",
    "    #print(nombreArchivo)\n",
    "    #ERROR: La ruta debería ser así: C:\\Users\\mdmar\\Desktop\\ficheroBueno.csv y la obtengo con las / (es decir, al revés)\n",
    "    #fichero = open(\"C:/Users/mdmar/Desktop/datos.xls\")\n",
    "    df = CargarDatos(nombreArchivo)\n",
    "    #print(df) # Muestra toda la información\n",
    "    #print(df['Nombre y Apellidos'])  # Muestra columna deseada\n",
    "    dframe = pd.DataFrame(df) # Se crea el DataFrame de los datos\n",
    "    dframe.groupby(['Grupo','Descripción'])['Total'].sum().unstack('Grupo').plot(kind='barh', legend='Reverse', stacked =True)\n",
    "    plt.xlabel('Total de alumnos matriculados')\n",
    "\n",
    "def BotonGrafica1():\n",
    "    print(\"Mostrar Gráfica 1\")\n",
    "\n",
    "\n",
    "def open_file(filename):   # Answer of stackoverflow\n",
    "    if sys.platform == \"win32\":\n",
    "        os.startfile(filename)\n",
    "    else:\n",
    "        opener = \"open\" if sys.platform == \"darwin\" else \"xdg-open\"\n",
    "        subprocess.call([opener, filename])\n",
    "\n",
    "        \n",
    "\"\"\" Classs to create the main menu for set app parameters and show the help file\"\"\"\n",
    "class GuiMenu:\n",
    "    def __init__(self, master):\n",
    "        self.master = master\n",
    "        self.menu = Menu(master)\n",
    "        master.config(menu=self.menu)\n",
    "\n",
    "        self.submenu = Menu(self.menu)\n",
    "\n",
    "        # ------------------ Sub Menu Configuración ------------------ #\n",
    "        self.submenu_config = Menu(self.submenu)\n",
    "        # Options of submenu\n",
    "        self.submenu_config.add_command(label=\"1\", command=self.set1)\n",
    "        self.submenu_config.add_command(label=\"2\", command=self.set2)\n",
    "        self.submenu_config.add_command(label=\"3\", command=self.set3)\n",
    "        self.submenu_config.add_command(label=\"4\", command=self.set4)\n",
    "        self.submenu.add_cascade(label=\"Máx Gráficos\", menu=self.submenu_config)\n",
    "\n",
    "\n",
    "         # ------------------ Main Options of the Menu ------------------ #\n",
    "        self.menu.add_cascade(label = \"Configuración\", underline = 0, menu = self.submenu)\n",
    "        self.menu.add_command(label = \"Ayuda\",  command = self.open)\n",
    "        self.menu.add_command(label=\"Acerca de...\", command = self.openAbout)\n",
    "        \n",
    "    def open(self):\n",
    "        open_file('ayuda.pdf') # Se abre el pdf de ayuda\n",
    "\n",
    "    def openAbout(self):\n",
    "        open_file('about.pdf') # Se abre el pdf de acerca de\n",
    "        \n",
    "    def set1(self):\n",
    "        global max_p\n",
    "        max_p = 1\n",
    "\n",
    "    def set2(self):\n",
    "        global max_p\n",
    "        max_p = 2\n",
    "\n",
    "    def set3(self):\n",
    "        global max_p\n",
    "        max_p = 3\n",
    "\n",
    "    def set4(self):\n",
    "        global max_p\n",
    "        max_p = 4\n",
    "\n",
    "        \n",
    "    def log(self):\n",
    "        x, y = get_window_pos(self.master)\n",
    "        self.master.destroy()\n",
    "        global ext_flag, log_flag\n",
    "        ext_flag = False\n",
    "        log_flag = True\n",
    "        aneca_login(x, y)\n",
    "\n",
    "    def extract(self):\n",
    "        x, y = get_window_pos(self.master)\n",
    "        self.master.destroy()\n",
    "        global ext_flag, log_flag\n",
    "        ext_flag = True\n",
    "        log_flag = False\n",
    "        get_only_info_window(x, y)\n",
    "\n",
    "    def full_process(self):\n",
    "        x, y = get_window_pos(self.master)\n",
    "        self.master.destroy()\n",
    "        global ext_flag, log_flag\n",
    "        ext_flag = True\n",
    "        log_flag = True\n",
    "        info_window(x, y)\n",
    "        \n",
    "        \n",
    "botonCargar = Button(miLabelCargar, text=\"Cargar Archivos\", command = BotonCargar)\n",
    "botonCargar.pack()\n",
    "\n",
    "\n",
    "botonGrafica1 = Button(miLabelGrafica1, text=\"Gráfica 1\", command = BotonGrafica1)\n",
    "botonGrafica1.pack()\n",
    "\n",
    "menu = GuiMenu(raiz) # Se llama a la clase anterior y se crea el menu.\n",
    "\n",
    "\n",
    "raiz.mainloop() # Para que se ejecute continuamente "
   ]
  },
  {
   "cell_type": "markdown",
   "metadata": {},
   "source": [
    "#### Ventanas Bloqueantes (hasta que no contestas o cierras no puedes avanzar)"
   ]
  },
  {
   "cell_type": "code",
   "execution_count": 2,
   "metadata": {},
   "outputs": [
    {
     "name": "stdout",
     "output_type": "stream",
     "text": [
      "has dicho que no\n"
     ]
    }
   ],
   "source": [
    "from tkinter.messagebox import *\n",
    "#askokcancel(\"hola\", \"que tal todo\")\n",
    "\"\"\"if askquestion(\"pregunta\", \"¿quieres guardar los resultados?\") == 'yes':\n",
    "    print(\"has dicho que si\")\n",
    "else:\n",
    "    print(\"has dicho que no\")\"\"\"\n",
    "#askretrycancel(\"title\", \"message\")\n",
    "#askyesno(\"title\", \"message\") "
   ]
  },
  {
   "cell_type": "code",
   "execution_count": 2,
   "metadata": {},
   "outputs": [],
   "source": [
    "#print(askfloat('Entry', 'Enter float'))  # Espera hasta que metes un decimal y te lo devuelve \n",
    "#print(askinteger('Entry', 'Enter integer')) # \" \"                    entero   \"   \"\n",
    "#print(askstring('Entry', 'Enter string')) # \"  \"                     cadena    \"  \""
   ]
  },
  {
   "cell_type": "markdown",
   "metadata": {},
   "source": [
    "#### Ventanas que muestran un mensaje de error"
   ]
  },
  {
   "cell_type": "code",
   "execution_count": 10,
   "metadata": {},
   "outputs": [
    {
     "data": {
      "text/plain": [
       "'ok'"
      ]
     },
     "execution_count": 10,
     "metadata": {},
     "output_type": "execute_result"
    }
   ],
   "source": [
    "#showerror(\"title\", \"message\") # Muestra aspa roja\n",
    "#showinfo(\"title\", \"message\") # Muestra círculo azul de información \n",
    "#showwarning(\"title\", \"message\") # Muestra triángulo amarillo"
   ]
  },
  {
   "cell_type": "markdown",
   "metadata": {},
   "source": [
    "#### Botón para GUARDAR un archivo (similar al de CARGAR)"
   ]
  },
  {
   "cell_type": "code",
   "execution_count": 12,
   "metadata": {},
   "outputs": [],
   "source": [
    "#raiz.fileName = filedialog.asksaveasfilename( filetypes=((\".pdf\", \"*.pdf\"),(\".tex (Latex)\", \"*.tex\"),(\"Todos los ficheros\",\"*.*\")), title = \"Guardar el archivo\")\n"
   ]
  },
  {
   "cell_type": "code",
   "execution_count": 12,
   "metadata": {},
   "outputs": [
    {
     "name": "stdout",
     "output_type": "stream",
     "text": [
      "la fecha es \"dia\"\n"
     ]
    }
   ],
   "source": [
    "hoy = \"dia\"\n",
    "print ('la fecha es \"'+hoy+'\"')"
   ]
  },
  {
   "cell_type": "code",
   "execution_count": 17,
   "metadata": {},
   "outputs": [
    {
     "name": "stdout",
     "output_type": "stream",
     "text": [
      "<_io.TextIOWrapper name='C:/Users/mdmar/Desktop/datos.xls' mode='r' encoding='cp1252'>\n"
     ]
    }
   ],
   "source": [
    "fichero = open(\"C:/Users/mdmar/Desktop/datos.xls\")\n",
    "print(fichero)"
   ]
  },
  {
   "cell_type": "code",
   "execution_count": null,
   "metadata": {},
   "outputs": [],
   "source": []
  },
  {
   "cell_type": "code",
   "execution_count": null,
   "metadata": {},
   "outputs": [],
   "source": []
  }
 ],
 "metadata": {
  "kernelspec": {
   "display_name": "Python 3",
   "language": "python",
   "name": "python3"
  },
  "language_info": {
   "codemirror_mode": {
    "name": "ipython",
    "version": 3
   },
   "file_extension": ".py",
   "mimetype": "text/x-python",
   "name": "python",
   "nbconvert_exporter": "python",
   "pygments_lexer": "ipython3",
   "version": "3.7.1"
  }
 },
 "nbformat": 4,
 "nbformat_minor": 2
}
